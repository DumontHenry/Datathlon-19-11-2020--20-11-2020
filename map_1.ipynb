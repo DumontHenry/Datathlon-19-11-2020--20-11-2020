{
  "nbformat": 4,
  "nbformat_minor": 0,
  "metadata": {
    "colab": {
      "name": "map 1",
      "provenance": [],
      "collapsed_sections": [],
      "toc_visible": true
    },
    "kernelspec": {
      "name": "python3",
      "display_name": "Python 3"
    }
  },
  "cells": [
    {
      "cell_type": "markdown",
      "metadata": {
        "id": "os_iRatmZ2iM"
      },
      "source": [
        "# Package"
      ]
    },
    {
      "cell_type": "code",
      "metadata": {
        "colab": {
          "base_uri": "https://localhost:8080/"
        },
        "id": "ZjeSarLfZi13",
        "outputId": "d0bb5895-2da7-4017-86e6-bd36f2584f11"
      },
      "source": [
        "!pip install folium\n",
        "!pip install mapboxgl\n",
        "!pip install rasterio\n",
        "!pip install earthpy\n",
        "!pip install folium-jsbutton\n",
        "!pip install geopy"
      ],
      "execution_count": 1,
      "outputs": [
        {
          "output_type": "stream",
          "text": [
            "Requirement already satisfied: folium in /usr/local/lib/python3.6/dist-packages (0.8.3)\n",
            "Requirement already satisfied: six in /usr/local/lib/python3.6/dist-packages (from folium) (1.15.0)\n",
            "Requirement already satisfied: jinja2 in /usr/local/lib/python3.6/dist-packages (from folium) (2.11.2)\n",
            "Requirement already satisfied: requests in /usr/local/lib/python3.6/dist-packages (from folium) (2.23.0)\n",
            "Requirement already satisfied: numpy in /usr/local/lib/python3.6/dist-packages (from folium) (1.18.5)\n",
            "Requirement already satisfied: branca>=0.3.0 in /usr/local/lib/python3.6/dist-packages (from folium) (0.4.1)\n",
            "Requirement already satisfied: MarkupSafe>=0.23 in /usr/local/lib/python3.6/dist-packages (from jinja2->folium) (1.1.1)\n",
            "Requirement already satisfied: urllib3!=1.25.0,!=1.25.1,<1.26,>=1.21.1 in /usr/local/lib/python3.6/dist-packages (from requests->folium) (1.24.3)\n",
            "Requirement already satisfied: chardet<4,>=3.0.2 in /usr/local/lib/python3.6/dist-packages (from requests->folium) (3.0.4)\n",
            "Requirement already satisfied: certifi>=2017.4.17 in /usr/local/lib/python3.6/dist-packages (from requests->folium) (2020.6.20)\n",
            "Requirement already satisfied: idna<3,>=2.5 in /usr/local/lib/python3.6/dist-packages (from requests->folium) (2.10)\n",
            "Collecting mapboxgl\n",
            "\u001b[?25l  Downloading https://files.pythonhosted.org/packages/4f/e1/cdaa6c2f6d3a7a29b0b9a675dcfc25f4c481d577d137da8c769f13014ce5/mapboxgl-0.10.2-py2.py3-none-any.whl (43kB)\n",
            "\u001b[K     |████████████████████████████████| 51kB 2.8MB/s \n",
            "\u001b[?25hCollecting colour\n",
            "  Downloading https://files.pythonhosted.org/packages/74/46/e81907704ab203206769dee1385dc77e1407576ff8f50a0681d0a6b541be/colour-0.1.5-py2.py3-none-any.whl\n",
            "Collecting chroma-py\n",
            "  Downloading https://files.pythonhosted.org/packages/23/3c/39d07abb9d4bcda64d9c50a4fda2ecfee4d76a436bd590d232a4e1a5ad43/chroma-py-0.1.0.dev1.tar.gz\n",
            "Requirement already satisfied: jinja2 in /usr/local/lib/python3.6/dist-packages (from mapboxgl) (2.11.2)\n",
            "Requirement already satisfied: matplotlib in /usr/local/lib/python3.6/dist-packages (from mapboxgl) (3.2.2)\n",
            "Collecting geojson\n",
            "  Downloading https://files.pythonhosted.org/packages/e4/8d/9e28e9af95739e6d2d2f8d4bef0b3432da40b7c3588fbad4298c1be09e48/geojson-2.5.0-py2.py3-none-any.whl\n",
            "Requirement already satisfied: MarkupSafe>=0.23 in /usr/local/lib/python3.6/dist-packages (from jinja2->mapboxgl) (1.1.1)\n",
            "Requirement already satisfied: numpy>=1.11 in /usr/local/lib/python3.6/dist-packages (from matplotlib->mapboxgl) (1.18.5)\n",
            "Requirement already satisfied: cycler>=0.10 in /usr/local/lib/python3.6/dist-packages (from matplotlib->mapboxgl) (0.10.0)\n",
            "Requirement already satisfied: python-dateutil>=2.1 in /usr/local/lib/python3.6/dist-packages (from matplotlib->mapboxgl) (2.8.1)\n",
            "Requirement already satisfied: pyparsing!=2.0.4,!=2.1.2,!=2.1.6,>=2.0.1 in /usr/local/lib/python3.6/dist-packages (from matplotlib->mapboxgl) (2.4.7)\n",
            "Requirement already satisfied: kiwisolver>=1.0.1 in /usr/local/lib/python3.6/dist-packages (from matplotlib->mapboxgl) (1.3.1)\n",
            "Requirement already satisfied: six in /usr/local/lib/python3.6/dist-packages (from cycler>=0.10->matplotlib->mapboxgl) (1.15.0)\n",
            "Building wheels for collected packages: chroma-py\n",
            "  Building wheel for chroma-py (setup.py) ... \u001b[?25l\u001b[?25hdone\n",
            "  Created wheel for chroma-py: filename=chroma_py-0.1.0.dev1-cp36-none-any.whl size=5107 sha256=1022966a034388bdb7684f32e501f9cc9841c42acc18a4c3ef6b4251b5e0ab33\n",
            "  Stored in directory: /root/.cache/pip/wheels/43/3b/8c/3f6d7536b8bef26b7c3be5989f8103513eb949e50a4f9f81cf\n",
            "Successfully built chroma-py\n",
            "Installing collected packages: colour, chroma-py, geojson, mapboxgl\n",
            "Successfully installed chroma-py-0.1.0.dev1 colour-0.1.5 geojson-2.5.0 mapboxgl-0.10.2\n",
            "Collecting rasterio\n",
            "\u001b[?25l  Downloading https://files.pythonhosted.org/packages/33/1a/51baddc8581ead98fcef591624b4b2521b581943a9178912a2ac576e0235/rasterio-1.1.8-1-cp36-cp36m-manylinux1_x86_64.whl (18.3MB)\n",
            "\u001b[K     |████████████████████████████████| 18.3MB 236kB/s \n",
            "\u001b[?25hRequirement already satisfied: attrs in /usr/local/lib/python3.6/dist-packages (from rasterio) (20.2.0)\n",
            "Collecting snuggs>=1.4.1\n",
            "  Downloading https://files.pythonhosted.org/packages/cc/0e/d27d6e806d6c0d1a2cfdc5d1f088e42339a0a54a09c3343f7f81ec8947ea/snuggs-1.4.7-py3-none-any.whl\n",
            "Requirement already satisfied: click<8,>=4.0 in /usr/local/lib/python3.6/dist-packages (from rasterio) (7.1.2)\n",
            "Collecting cligj>=0.5\n",
            "  Downloading https://files.pythonhosted.org/packages/ba/06/e3440b1f2dc802d35f329f299ba96153e9fcbfdef75e17f4b61f79430c6a/cligj-0.7.0-py3-none-any.whl\n",
            "Collecting click-plugins\n",
            "  Downloading https://files.pythonhosted.org/packages/e9/da/824b92d9942f4e472702488857914bdd50f73021efea15b4cad9aca8ecef/click_plugins-1.1.1-py2.py3-none-any.whl\n",
            "Requirement already satisfied: numpy in /usr/local/lib/python3.6/dist-packages (from rasterio) (1.18.5)\n",
            "Collecting affine\n",
            "  Downloading https://files.pythonhosted.org/packages/ac/a6/1a39a1ede71210e3ddaf623982b06ecfc5c5c03741ae659073159184cd3e/affine-2.3.0-py2.py3-none-any.whl\n",
            "Requirement already satisfied: pyparsing>=2.1.6 in /usr/local/lib/python3.6/dist-packages (from snuggs>=1.4.1->rasterio) (2.4.7)\n",
            "Installing collected packages: snuggs, cligj, click-plugins, affine, rasterio\n",
            "Successfully installed affine-2.3.0 click-plugins-1.1.1 cligj-0.7.0 rasterio-1.1.8 snuggs-1.4.7\n",
            "Collecting earthpy\n",
            "\u001b[?25l  Downloading https://files.pythonhosted.org/packages/2d/ee/30cd183c5b58c967ec52bb3bd8decc0a1798f15c94898b84e6ee6b0baa39/earthpy-0.9.2.tar.gz (1.4MB)\n",
            "\u001b[K     |████████████████████████████████| 1.4MB 4.1MB/s \n",
            "\u001b[?25h  Installing build dependencies ... \u001b[?25l\u001b[?25hdone\n",
            "  Getting requirements to build wheel ... \u001b[?25l\u001b[?25hdone\n",
            "    Preparing wheel metadata ... \u001b[?25l\u001b[?25hdone\n",
            "Requirement already satisfied: matplotlib>=2.0.0 in /usr/local/lib/python3.6/dist-packages (from earthpy) (3.2.2)\n",
            "Requirement already satisfied: scikit-image in /usr/local/lib/python3.6/dist-packages (from earthpy) (0.16.2)\n",
            "Requirement already satisfied: requests in /usr/local/lib/python3.6/dist-packages (from earthpy) (2.23.0)\n",
            "Requirement already satisfied: rasterio in /usr/local/lib/python3.6/dist-packages (from earthpy) (1.1.8)\n",
            "Collecting geopandas\n",
            "\u001b[?25l  Downloading https://files.pythonhosted.org/packages/f7/a4/e66aafbefcbb717813bf3a355c8c4fc3ed04ea1dd7feb2920f2f4f868921/geopandas-0.8.1-py2.py3-none-any.whl (962kB)\n",
            "\u001b[K     |████████████████████████████████| 972kB 23.1MB/s \n",
            "\u001b[?25hRequirement already satisfied: numpy>=1.14.0 in /usr/local/lib/python3.6/dist-packages (from earthpy) (1.18.5)\n",
            "Requirement already satisfied: pyparsing!=2.0.4,!=2.1.2,!=2.1.6,>=2.0.1 in /usr/local/lib/python3.6/dist-packages (from matplotlib>=2.0.0->earthpy) (2.4.7)\n",
            "Requirement already satisfied: cycler>=0.10 in /usr/local/lib/python3.6/dist-packages (from matplotlib>=2.0.0->earthpy) (0.10.0)\n",
            "Requirement already satisfied: kiwisolver>=1.0.1 in /usr/local/lib/python3.6/dist-packages (from matplotlib>=2.0.0->earthpy) (1.3.1)\n",
            "Requirement already satisfied: python-dateutil>=2.1 in /usr/local/lib/python3.6/dist-packages (from matplotlib>=2.0.0->earthpy) (2.8.1)\n",
            "Requirement already satisfied: scipy>=0.19.0 in /usr/local/lib/python3.6/dist-packages (from scikit-image->earthpy) (1.4.1)\n",
            "Requirement already satisfied: networkx>=2.0 in /usr/local/lib/python3.6/dist-packages (from scikit-image->earthpy) (2.5)\n",
            "Requirement already satisfied: imageio>=2.3.0 in /usr/local/lib/python3.6/dist-packages (from scikit-image->earthpy) (2.4.1)\n",
            "Requirement already satisfied: PyWavelets>=0.4.0 in /usr/local/lib/python3.6/dist-packages (from scikit-image->earthpy) (1.1.1)\n",
            "Requirement already satisfied: pillow>=4.3.0 in /usr/local/lib/python3.6/dist-packages (from scikit-image->earthpy) (7.0.0)\n",
            "Requirement already satisfied: urllib3!=1.25.0,!=1.25.1,<1.26,>=1.21.1 in /usr/local/lib/python3.6/dist-packages (from requests->earthpy) (1.24.3)\n",
            "Requirement already satisfied: chardet<4,>=3.0.2 in /usr/local/lib/python3.6/dist-packages (from requests->earthpy) (3.0.4)\n",
            "Requirement already satisfied: certifi>=2017.4.17 in /usr/local/lib/python3.6/dist-packages (from requests->earthpy) (2020.6.20)\n",
            "Requirement already satisfied: idna<3,>=2.5 in /usr/local/lib/python3.6/dist-packages (from requests->earthpy) (2.10)\n",
            "Requirement already satisfied: click<8,>=4.0 in /usr/local/lib/python3.6/dist-packages (from rasterio->earthpy) (7.1.2)\n",
            "Requirement already satisfied: snuggs>=1.4.1 in /usr/local/lib/python3.6/dist-packages (from rasterio->earthpy) (1.4.7)\n",
            "Requirement already satisfied: cligj>=0.5 in /usr/local/lib/python3.6/dist-packages (from rasterio->earthpy) (0.7.0)\n",
            "Requirement already satisfied: click-plugins in /usr/local/lib/python3.6/dist-packages (from rasterio->earthpy) (1.1.1)\n",
            "Requirement already satisfied: affine in /usr/local/lib/python3.6/dist-packages (from rasterio->earthpy) (2.3.0)\n",
            "Requirement already satisfied: attrs in /usr/local/lib/python3.6/dist-packages (from rasterio->earthpy) (20.2.0)\n",
            "Requirement already satisfied: pandas>=0.23.0 in /usr/local/lib/python3.6/dist-packages (from geopandas->earthpy) (1.1.4)\n",
            "Collecting fiona\n",
            "\u001b[?25l  Downloading https://files.pythonhosted.org/packages/37/94/4910fd55246c1d963727b03885ead6ef1cd3748a465f7b0239ab25dfc9a3/Fiona-1.8.18-cp36-cp36m-manylinux1_x86_64.whl (14.8MB)\n",
            "\u001b[K     |████████████████████████████████| 14.8MB 336kB/s \n",
            "\u001b[?25hRequirement already satisfied: shapely in /usr/local/lib/python3.6/dist-packages (from geopandas->earthpy) (1.7.1)\n",
            "Collecting pyproj>=2.2.0\n",
            "\u001b[?25l  Downloading https://files.pythonhosted.org/packages/e4/ab/280e80a67cfc109d15428c0ec56391fc03a65857b7727cf4e6e6f99a4204/pyproj-3.0.0.post1-cp36-cp36m-manylinux2010_x86_64.whl (6.4MB)\n",
            "\u001b[K     |████████████████████████████████| 6.5MB 37.7MB/s \n",
            "\u001b[?25hRequirement already satisfied: six in /usr/local/lib/python3.6/dist-packages (from cycler>=0.10->matplotlib>=2.0.0->earthpy) (1.15.0)\n",
            "Requirement already satisfied: decorator>=4.3.0 in /usr/local/lib/python3.6/dist-packages (from networkx>=2.0->scikit-image->earthpy) (4.4.2)\n",
            "Requirement already satisfied: pytz>=2017.2 in /usr/local/lib/python3.6/dist-packages (from pandas>=0.23.0->geopandas->earthpy) (2018.9)\n",
            "Collecting munch\n",
            "  Downloading https://files.pythonhosted.org/packages/cc/ab/85d8da5c9a45e072301beb37ad7f833cd344e04c817d97e0cc75681d248f/munch-2.5.0-py2.py3-none-any.whl\n",
            "Building wheels for collected packages: earthpy\n",
            "  Building wheel for earthpy (PEP 517) ... \u001b[?25l\u001b[?25hdone\n",
            "  Created wheel for earthpy: filename=earthpy-0.9.2-cp36-none-any.whl size=1365088 sha256=4cd48bce101d2076ab85da7806c8751e3223f591fcc370b83d8c7a726bedf24c\n",
            "  Stored in directory: /root/.cache/pip/wheels/27/f9/a5/026bb95ef7b12f9343b842da6897b4001c5b902550095cbbbe\n",
            "Successfully built earthpy\n",
            "Installing collected packages: munch, fiona, pyproj, geopandas, earthpy\n",
            "Successfully installed earthpy-0.9.2 fiona-1.8.18 geopandas-0.8.1 munch-2.5.0 pyproj-3.0.0.post1\n",
            "Collecting folium-jsbutton\n",
            "  Downloading https://files.pythonhosted.org/packages/f8/4e/44569cc8e833adfb73027f8502f5f7b3be257a0e25e0a146c41adb6a98d2/folium-jsbutton-0.1.0.tar.gz\n",
            "Requirement already satisfied: folium>=0.6.0 in /usr/local/lib/python3.6/dist-packages (from folium-jsbutton) (0.8.3)\n",
            "Requirement already satisfied: branca>=0.3.0 in /usr/local/lib/python3.6/dist-packages (from folium-jsbutton) (0.4.1)\n",
            "Requirement already satisfied: requests in /usr/local/lib/python3.6/dist-packages (from folium>=0.6.0->folium-jsbutton) (2.23.0)\n",
            "Requirement already satisfied: jinja2 in /usr/local/lib/python3.6/dist-packages (from folium>=0.6.0->folium-jsbutton) (2.11.2)\n",
            "Requirement already satisfied: six in /usr/local/lib/python3.6/dist-packages (from folium>=0.6.0->folium-jsbutton) (1.15.0)\n",
            "Requirement already satisfied: numpy in /usr/local/lib/python3.6/dist-packages (from folium>=0.6.0->folium-jsbutton) (1.18.5)\n",
            "Requirement already satisfied: idna<3,>=2.5 in /usr/local/lib/python3.6/dist-packages (from requests->folium>=0.6.0->folium-jsbutton) (2.10)\n",
            "Requirement already satisfied: urllib3!=1.25.0,!=1.25.1,<1.26,>=1.21.1 in /usr/local/lib/python3.6/dist-packages (from requests->folium>=0.6.0->folium-jsbutton) (1.24.3)\n",
            "Requirement already satisfied: certifi>=2017.4.17 in /usr/local/lib/python3.6/dist-packages (from requests->folium>=0.6.0->folium-jsbutton) (2020.6.20)\n",
            "Requirement already satisfied: chardet<4,>=3.0.2 in /usr/local/lib/python3.6/dist-packages (from requests->folium>=0.6.0->folium-jsbutton) (3.0.4)\n",
            "Requirement already satisfied: MarkupSafe>=0.23 in /usr/local/lib/python3.6/dist-packages (from jinja2->folium>=0.6.0->folium-jsbutton) (1.1.1)\n",
            "Building wheels for collected packages: folium-jsbutton\n",
            "  Building wheel for folium-jsbutton (setup.py) ... \u001b[?25l\u001b[?25hdone\n",
            "  Created wheel for folium-jsbutton: filename=folium_jsbutton-0.1.0-cp36-none-any.whl size=2432 sha256=e38a7f18fc6766ac8bdb7e3027f364a3ac5e7d64b0f1bd75e6620a0b27684f53\n",
            "  Stored in directory: /root/.cache/pip/wheels/27/1d/be/a40c8c61c247408acfbde4b9e8504cb1fdf6c3a6f74a7eb199\n",
            "Successfully built folium-jsbutton\n",
            "Installing collected packages: folium-jsbutton\n",
            "Successfully installed folium-jsbutton-0.1.0\n",
            "Requirement already satisfied: geopy in /usr/local/lib/python3.6/dist-packages (1.17.0)\n",
            "Requirement already satisfied: geographiclib<2,>=1.49 in /usr/local/lib/python3.6/dist-packages (from geopy) (1.50)\n"
          ],
          "name": "stdout"
        }
      ]
    },
    {
      "cell_type": "code",
      "metadata": {
        "id": "ZKwl_cgHZpxE"
      },
      "source": [
        "import os \n",
        "import folium\n",
        "from folium import plugins\n",
        "import rasterio as rio\n",
        "from rasterio.warp import calculate_default_transform, reproject, Resampling\n",
        "import earthpy as et\n",
        "import pandas as pd\n",
        "import sys \n",
        "from geopy.geocoders import Nominatim\n",
        "import pandas as pd\n",
        "from folium_jsbutton import JsButton\n",
        "sys.setrecursionlimit(1000000000)"
      ],
      "execution_count": 2,
      "outputs": []
    },
    {
      "cell_type": "code",
      "metadata": {
        "id": "4xpqepPqaSSw"
      },
      "source": [
        "import pandas as pd\n"
      ],
      "execution_count": 6,
      "outputs": []
    },
    {
      "cell_type": "code",
      "metadata": {
        "id": "l4ctwlwSZsmb"
      },
      "source": [
        "m = folium.Map(location=[48.8566,2.3522])"
      ],
      "execution_count": 3,
      "outputs": []
    },
    {
      "cell_type": "code",
      "metadata": {
        "id": "rfjunRCsZ0na"
      },
      "source": [
        "m"
      ],
      "execution_count": null,
      "outputs": []
    },
    {
      "cell_type": "markdown",
      "metadata": {
        "id": "5IMSsNdVaOD0"
      },
      "source": [
        "# importation data base"
      ]
    },
    {
      "cell_type": "code",
      "metadata": {
        "id": "RlgEGr1HaQr9"
      },
      "source": [
        "df_final=pd.read_csv('/content/Df_final2.csv')"
      ],
      "execution_count": 16,
      "outputs": []
    },
    {
      "cell_type": "code",
      "metadata": {
        "id": "7btaR99Kkflj"
      },
      "source": [
        "df_ville=pd.read_csv('/content/dfGVilles.csv')"
      ],
      "execution_count": 30,
      "outputs": []
    },
    {
      "cell_type": "code",
      "metadata": {
        "id": "7XE10YwulHjt"
      },
      "source": [
        "data_anna=pd.read_csv('/content/dataPrixFinal2.csv', sep=',')"
      ],
      "execution_count": 38,
      "outputs": []
    },
    {
      "cell_type": "code",
      "metadata": {
        "id": "uZ7U64_AlnZR"
      },
      "source": [
        "df=pd.merge(data_anna,df_ville, how='left',left_on='longitude', right_on='longitude')"
      ],
      "execution_count": 67,
      "outputs": []
    },
    {
      "cell_type": "code",
      "metadata": {
        "id": "gMvDakLbkr0t"
      },
      "source": [
        "df_ville.drop('Unnamed: 0',axis=1, inplace=True)"
      ],
      "execution_count": 69,
      "outputs": []
    },
    {
      "cell_type": "code",
      "metadata": {
        "colab": {
          "base_uri": "https://localhost:8080/",
          "height": 419
        },
        "id": "u0nBW2oRky3y",
        "outputId": "1fe8e114-05b9-4bdf-b593-027b311dc04a"
      },
      "source": [
        "df_ville"
      ],
      "execution_count": 70,
      "outputs": [
        {
          "output_type": "execute_result",
          "data": {
            "text/html": [
              "<div>\n",
              "<style scoped>\n",
              "    .dataframe tbody tr th:only-of-type {\n",
              "        vertical-align: middle;\n",
              "    }\n",
              "\n",
              "    .dataframe tbody tr th {\n",
              "        vertical-align: top;\n",
              "    }\n",
              "\n",
              "    .dataframe thead th {\n",
              "        text-align: right;\n",
              "    }\n",
              "</style>\n",
              "<table border=\"1\" class=\"dataframe\">\n",
              "  <thead>\n",
              "    <tr style=\"text-align: right;\">\n",
              "      <th></th>\n",
              "      <th>nom_commune</th>\n",
              "      <th>longitude</th>\n",
              "      <th>latitude</th>\n",
              "    </tr>\n",
              "  </thead>\n",
              "  <tbody>\n",
              "    <tr>\n",
              "      <th>0</th>\n",
              "      <td>Péronnas</td>\n",
              "      <td>5.226197</td>\n",
              "      <td>46.184538</td>\n",
              "    </tr>\n",
              "    <tr>\n",
              "      <th>1</th>\n",
              "      <td>Attignat</td>\n",
              "      <td>NaN</td>\n",
              "      <td>NaN</td>\n",
              "    </tr>\n",
              "    <tr>\n",
              "      <th>2</th>\n",
              "      <td>Béréziat</td>\n",
              "      <td>5.047659</td>\n",
              "      <td>46.367829</td>\n",
              "    </tr>\n",
              "    <tr>\n",
              "      <th>3</th>\n",
              "      <td>Val-Revermont</td>\n",
              "      <td>5.362336</td>\n",
              "      <td>46.274501</td>\n",
              "    </tr>\n",
              "    <tr>\n",
              "      <th>4</th>\n",
              "      <td>Saint-André-de-Bâgé</td>\n",
              "      <td>4.914950</td>\n",
              "      <td>46.300280</td>\n",
              "    </tr>\n",
              "    <tr>\n",
              "      <th>...</th>\n",
              "      <td>...</td>\n",
              "      <td>...</td>\n",
              "      <td>...</td>\n",
              "    </tr>\n",
              "    <tr>\n",
              "      <th>22644</th>\n",
              "      <td>Paris 18e Arrondissement</td>\n",
              "      <td>2.351809</td>\n",
              "      <td>48.892256</td>\n",
              "    </tr>\n",
              "    <tr>\n",
              "      <th>22645</th>\n",
              "      <td>Paris 20e Arrondissement</td>\n",
              "      <td>2.400535</td>\n",
              "      <td>48.856919</td>\n",
              "    </tr>\n",
              "    <tr>\n",
              "      <th>22646</th>\n",
              "      <td>Paris 19e Arrondissement</td>\n",
              "      <td>2.382450</td>\n",
              "      <td>48.874144</td>\n",
              "    </tr>\n",
              "    <tr>\n",
              "      <th>22647</th>\n",
              "      <td>Paris 4e Arrondissement</td>\n",
              "      <td>2.359936</td>\n",
              "      <td>48.854633</td>\n",
              "    </tr>\n",
              "    <tr>\n",
              "      <th>22648</th>\n",
              "      <td>Paris 2e Arrondissement</td>\n",
              "      <td>2.345110</td>\n",
              "      <td>48.868196</td>\n",
              "    </tr>\n",
              "  </tbody>\n",
              "</table>\n",
              "<p>22649 rows × 3 columns</p>\n",
              "</div>"
            ],
            "text/plain": [
              "                    nom_commune  longitude   latitude\n",
              "0                      Péronnas   5.226197  46.184538\n",
              "1                      Attignat        NaN        NaN\n",
              "2                      Béréziat   5.047659  46.367829\n",
              "3                 Val-Revermont   5.362336  46.274501\n",
              "4           Saint-André-de-Bâgé   4.914950  46.300280\n",
              "...                         ...        ...        ...\n",
              "22644  Paris 18e Arrondissement   2.351809  48.892256\n",
              "22645  Paris 20e Arrondissement   2.400535  48.856919\n",
              "22646  Paris 19e Arrondissement   2.382450  48.874144\n",
              "22647   Paris 4e Arrondissement   2.359936  48.854633\n",
              "22648   Paris 2e Arrondissement   2.345110  48.868196\n",
              "\n",
              "[22649 rows x 3 columns]"
            ]
          },
          "metadata": {
            "tags": []
          },
          "execution_count": 70
        }
      ]
    },
    {
      "cell_type": "code",
      "metadata": {
        "colab": {
          "base_uri": "https://localhost:8080/"
        },
        "id": "hUZtOeEGekuz",
        "outputId": "1196ec44-9979-4ef3-8dda-152f36793f52"
      },
      "source": [
        "df_final.info()"
      ],
      "execution_count": 71,
      "outputs": [
        {
          "output_type": "stream",
          "text": [
            "<class 'pandas.core.frame.DataFrame'>\n",
            "RangeIndex: 482 entries, 0 to 481\n",
            "Data columns (total 22 columns):\n",
            " #   Column             Non-Null Count  Dtype  \n",
            "---  ------             --------------  -----  \n",
            " 0   Unnamed: 0         482 non-null    int64  \n",
            " 1   city               482 non-null    object \n",
            " 2   lat                482 non-null    float64\n",
            " 3   lng                482 non-null    float64\n",
            " 4   country            482 non-null    object \n",
            " 5   iso2               482 non-null    object \n",
            " 6   admin_name         482 non-null    object \n",
            " 7   capital            323 non-null    object \n",
            " 8   population         325 non-null    float64\n",
            " 9   population_proper  325 non-null    float64\n",
            " 10  Unnamed: 0.1       467 non-null    float64\n",
            " 11  CODGEO             467 non-null    object \n",
            " 12  MNS                467 non-null    float64\n",
            " 13  Score              467 non-null    object \n",
            " 14  total_info         467 non-null    object \n",
            " 15  Prefecture         90 non-null     object \n",
            " 16  quartile chomage   90 non-null     object \n",
            " 17  2020               90 non-null     float64\n",
            " 18  2020_index_house   482 non-null    float64\n",
            " 19  2020_index_flat    482 non-null    float64\n",
            " 20  2021_index_house   482 non-null    float64\n",
            " 21  2021_index _flat   482 non-null    float64\n",
            "dtypes: float64(11), int64(1), object(10)\n",
            "memory usage: 83.0+ KB\n"
          ],
          "name": "stdout"
        }
      ]
    },
    {
      "cell_type": "code",
      "metadata": {
        "id": "Qap5LAoTeO2d"
      },
      "source": [
        "df_final.drop('Unnamed: 0',axis=1, inplace=True)"
      ],
      "execution_count": 72,
      "outputs": []
    },
    {
      "cell_type": "code",
      "metadata": {
        "colab": {
          "base_uri": "https://localhost:8080/",
          "height": 416
        },
        "id": "Wn4yJIUYmGgP",
        "outputId": "1927a73b-7a89-4c40-8043-f8da19be94bb"
      },
      "source": [
        "df.dropna()"
      ],
      "execution_count": 73,
      "outputs": [
        {
          "output_type": "execute_result",
          "data": {
            "text/html": [
              "<div>\n",
              "<style scoped>\n",
              "    .dataframe tbody tr th:only-of-type {\n",
              "        vertical-align: middle;\n",
              "    }\n",
              "\n",
              "    .dataframe tbody tr th {\n",
              "        vertical-align: top;\n",
              "    }\n",
              "\n",
              "    .dataframe thead th {\n",
              "        text-align: right;\n",
              "    }\n",
              "</style>\n",
              "<table border=\"1\" class=\"dataframe\">\n",
              "  <thead>\n",
              "    <tr style=\"text-align: right;\">\n",
              "      <th></th>\n",
              "      <th>nom_commune_x</th>\n",
              "      <th>valeur_fonciere</th>\n",
              "      <th>surface_terrain</th>\n",
              "      <th>longitude</th>\n",
              "      <th>latitude_x</th>\n",
              "      <th>prix_m2</th>\n",
              "      <th>Unnamed: 0</th>\n",
              "      <th>nom_commune_y</th>\n",
              "      <th>latitude_y</th>\n",
              "    </tr>\n",
              "  </thead>\n",
              "  <tbody>\n",
              "    <tr>\n",
              "      <th>2</th>\n",
              "      <td>Abbans-Dessus</td>\n",
              "      <td>172000.00</td>\n",
              "      <td>1084.0</td>\n",
              "      <td>5.877694</td>\n",
              "      <td>47.114526</td>\n",
              "      <td>158.671587</td>\n",
              "      <td>128383.0</td>\n",
              "      <td>Abbans-Dessus</td>\n",
              "      <td>47.114526</td>\n",
              "    </tr>\n",
              "    <tr>\n",
              "      <th>26</th>\n",
              "      <td>Abriès-Ristolas</td>\n",
              "      <td>85000.00</td>\n",
              "      <td>0.0</td>\n",
              "      <td>6.925275</td>\n",
              "      <td>44.794744</td>\n",
              "      <td>inf</td>\n",
              "      <td>20065.0</td>\n",
              "      <td>Abriès-Ristolas</td>\n",
              "      <td>44.794744</td>\n",
              "    </tr>\n",
              "    <tr>\n",
              "      <th>31</th>\n",
              "      <td>Accous</td>\n",
              "      <td>145000.00</td>\n",
              "      <td>132.0</td>\n",
              "      <td>-0.596843</td>\n",
              "      <td>42.985060</td>\n",
              "      <td>1098.484848</td>\n",
              "      <td>512801.0</td>\n",
              "      <td>Accous</td>\n",
              "      <td>42.985060</td>\n",
              "    </tr>\n",
              "    <tr>\n",
              "      <th>54</th>\n",
              "      <td>Adervielle-Pouchergues</td>\n",
              "      <td>110000.00</td>\n",
              "      <td>37.0</td>\n",
              "      <td>0.387315</td>\n",
              "      <td>42.792771</td>\n",
              "      <td>2972.972973</td>\n",
              "      <td>513883.0</td>\n",
              "      <td>Adervielle-Pouchergues</td>\n",
              "      <td>42.792771</td>\n",
              "    </tr>\n",
              "    <tr>\n",
              "      <th>62</th>\n",
              "      <td>Affléville</td>\n",
              "      <td>50.00</td>\n",
              "      <td>1166.0</td>\n",
              "      <td>5.729445</td>\n",
              "      <td>49.267223</td>\n",
              "      <td>0.042882</td>\n",
              "      <td>425147.0</td>\n",
              "      <td>Affléville</td>\n",
              "      <td>49.267223</td>\n",
              "    </tr>\n",
              "    <tr>\n",
              "      <th>...</th>\n",
              "      <td>...</td>\n",
              "      <td>...</td>\n",
              "      <td>...</td>\n",
              "      <td>...</td>\n",
              "      <td>...</td>\n",
              "      <td>...</td>\n",
              "      <td>...</td>\n",
              "      <td>...</td>\n",
              "      <td>...</td>\n",
              "    </tr>\n",
              "    <tr>\n",
              "      <th>22548</th>\n",
              "      <td>Équevillon</td>\n",
              "      <td>1003.02</td>\n",
              "      <td>687.0</td>\n",
              "      <td>5.934182</td>\n",
              "      <td>46.760112</td>\n",
              "      <td>1.460000</td>\n",
              "      <td>270781.0</td>\n",
              "      <td>Équevillon</td>\n",
              "      <td>46.760112</td>\n",
              "    </tr>\n",
              "    <tr>\n",
              "      <th>22554</th>\n",
              "      <td>Érin</td>\n",
              "      <td>0.00</td>\n",
              "      <td>329.0</td>\n",
              "      <td>2.205062</td>\n",
              "      <td>50.437648</td>\n",
              "      <td>0.000000</td>\n",
              "      <td>495601.0</td>\n",
              "      <td>Érin</td>\n",
              "      <td>50.437648</td>\n",
              "    </tr>\n",
              "    <tr>\n",
              "      <th>22585</th>\n",
              "      <td>Étival</td>\n",
              "      <td>17926.35</td>\n",
              "      <td>211.0</td>\n",
              "      <td>5.795360</td>\n",
              "      <td>46.493326</td>\n",
              "      <td>84.959005</td>\n",
              "      <td>271175.0</td>\n",
              "      <td>Étival</td>\n",
              "      <td>46.493326</td>\n",
              "    </tr>\n",
              "    <tr>\n",
              "      <th>22597</th>\n",
              "      <td>Étrappe</td>\n",
              "      <td>3000.00</td>\n",
              "      <td>3540.0</td>\n",
              "      <td>6.567050</td>\n",
              "      <td>47.462235</td>\n",
              "      <td>0.847458</td>\n",
              "      <td>128452.0</td>\n",
              "      <td>Étrappe</td>\n",
              "      <td>47.462235</td>\n",
              "    </tr>\n",
              "    <tr>\n",
              "      <th>22614</th>\n",
              "      <td>Étrépagny</td>\n",
              "      <td>167000.00</td>\n",
              "      <td>195.0</td>\n",
              "      <td>1.610013</td>\n",
              "      <td>49.304611</td>\n",
              "      <td>856.410256</td>\n",
              "      <td>138041.0</td>\n",
              "      <td>Étrépagny</td>\n",
              "      <td>49.304611</td>\n",
              "    </tr>\n",
              "  </tbody>\n",
              "</table>\n",
              "<p>1481 rows × 9 columns</p>\n",
              "</div>"
            ],
            "text/plain": [
              "                nom_commune_x  ...  latitude_y\n",
              "2               Abbans-Dessus  ...   47.114526\n",
              "26            Abriès-Ristolas  ...   44.794744\n",
              "31                     Accous  ...   42.985060\n",
              "54     Adervielle-Pouchergues  ...   42.792771\n",
              "62                 Affléville  ...   49.267223\n",
              "...                       ...  ...         ...\n",
              "22548              Équevillon  ...   46.760112\n",
              "22554                    Érin  ...   50.437648\n",
              "22585                  Étival  ...   46.493326\n",
              "22597                 Étrappe  ...   47.462235\n",
              "22614               Étrépagny  ...   49.304611\n",
              "\n",
              "[1481 rows x 9 columns]"
            ]
          },
          "metadata": {
            "tags": []
          },
          "execution_count": 73
        }
      ]
    },
    {
      "cell_type": "code",
      "metadata": {
        "id": "Y5c_cQuYnLTX"
      },
      "source": [
        "df.drop(columns={'latitude_y', 'nom_commune_y','Unnamed: 0'}, inplace=True)"
      ],
      "execution_count": 74,
      "outputs": []
    },
    {
      "cell_type": "markdown",
      "metadata": {
        "id": "Xxz5Yh45uHsG"
      },
      "source": [
        "# Construction Map"
      ]
    },
    {
      "cell_type": "code",
      "metadata": {
        "id": "yL-piD1ScCYV"
      },
      "source": [
        "for lat, lng, city, Score, chomage, MNS, _index_house2, _index_house3  in zip(df_final['lat'], df_final['lng'], df_final['city'], df_final['Score'],df_final['2020'],df_final['MNS'], df_final['2020_index_house'],df_final['2021_index_house']):\n",
        "    folium.CircleMarker(\n",
        "        [lat, lng],\n",
        "        popup = ('City: ' + str(city).capitalize() + '<br>''Score: ' + str(Score) +'<br>''chomage en %:' ' ' +str(chomage) + '<br>' 'MNS :' +str(MNS ) +'<br>' 'index house 2020:' +str(_index_house2) + '<br>' 'index house 2021:'  '<br>'  +str(_index_house3)\n",
        "        \n",
        "        )).add_to(m)"
      ],
      "execution_count": 27,
      "outputs": []
    },
    {
      "cell_type": "code",
      "metadata": {
        "id": "Bg_QC0s9JEB9"
      },
      "source": [
        "m"
      ],
      "execution_count": null,
      "outputs": []
    },
    {
      "cell_type": "code",
      "metadata": {
        "colab": {
          "base_uri": "https://localhost:8080/",
          "height": 202
        },
        "id": "fcZW2OqXonWY",
        "outputId": "4fe6230c-9209-4c24-d42e-cd8ce9111bc1"
      },
      "source": [
        "df.head()"
      ],
      "execution_count": 76,
      "outputs": [
        {
          "output_type": "execute_result",
          "data": {
            "text/html": [
              "<div>\n",
              "<style scoped>\n",
              "    .dataframe tbody tr th:only-of-type {\n",
              "        vertical-align: middle;\n",
              "    }\n",
              "\n",
              "    .dataframe tbody tr th {\n",
              "        vertical-align: top;\n",
              "    }\n",
              "\n",
              "    .dataframe thead th {\n",
              "        text-align: right;\n",
              "    }\n",
              "</style>\n",
              "<table border=\"1\" class=\"dataframe\">\n",
              "  <thead>\n",
              "    <tr style=\"text-align: right;\">\n",
              "      <th></th>\n",
              "      <th>nom_commune_x</th>\n",
              "      <th>valeur_fonciere</th>\n",
              "      <th>surface_terrain</th>\n",
              "      <th>longitude</th>\n",
              "      <th>latitude_x</th>\n",
              "      <th>prix_m2</th>\n",
              "    </tr>\n",
              "  </thead>\n",
              "  <tbody>\n",
              "    <tr>\n",
              "      <th>0</th>\n",
              "      <td>Abancourt</td>\n",
              "      <td>26268985.6</td>\n",
              "      <td>611716.0</td>\n",
              "      <td>70.574837</td>\n",
              "      <td>1889.264219</td>\n",
              "      <td>42.943107</td>\n",
              "    </tr>\n",
              "    <tr>\n",
              "      <th>1</th>\n",
              "      <td>Abaucourt</td>\n",
              "      <td>4000.0</td>\n",
              "      <td>5230.0</td>\n",
              "      <td>12.502426</td>\n",
              "      <td>97.809428</td>\n",
              "      <td>0.764818</td>\n",
              "    </tr>\n",
              "    <tr>\n",
              "      <th>2</th>\n",
              "      <td>Abbans-Dessus</td>\n",
              "      <td>172000.0</td>\n",
              "      <td>1084.0</td>\n",
              "      <td>5.877694</td>\n",
              "      <td>47.114526</td>\n",
              "      <td>158.671587</td>\n",
              "    </tr>\n",
              "    <tr>\n",
              "      <th>3</th>\n",
              "      <td>Abbaretz</td>\n",
              "      <td>6564348.0</td>\n",
              "      <td>481835.0</td>\n",
              "      <td>-60.691725</td>\n",
              "      <td>1902.483463</td>\n",
              "      <td>13.623643</td>\n",
              "    </tr>\n",
              "    <tr>\n",
              "      <th>4</th>\n",
              "      <td>Abbecourt</td>\n",
              "      <td>1644000.0</td>\n",
              "      <td>82019.0</td>\n",
              "      <td>28.145898</td>\n",
              "      <td>641.751310</td>\n",
              "      <td>20.044136</td>\n",
              "    </tr>\n",
              "  </tbody>\n",
              "</table>\n",
              "</div>"
            ],
            "text/plain": [
              "   nom_commune_x  valeur_fonciere  ...   latitude_x     prix_m2\n",
              "0      Abancourt       26268985.6  ...  1889.264219   42.943107\n",
              "1      Abaucourt           4000.0  ...    97.809428    0.764818\n",
              "2  Abbans-Dessus         172000.0  ...    47.114526  158.671587\n",
              "3       Abbaretz        6564348.0  ...  1902.483463   13.623643\n",
              "4      Abbecourt        1644000.0  ...   641.751310   20.044136\n",
              "\n",
              "[5 rows x 6 columns]"
            ]
          },
          "metadata": {
            "tags": []
          },
          "execution_count": 76
        }
      ]
    },
    {
      "cell_type": "code",
      "metadata": {
        "id": "Ok3pbZ_4jBHu"
      },
      "source": [
        "\n",
        "m.save('Map_france 2020 .html')"
      ],
      "execution_count": 29,
      "outputs": []
    },
    {
      "cell_type": "code",
      "metadata": {
        "id": "r1aXrcxEXeAN"
      },
      "source": [
        "m"
      ],
      "execution_count": 82,
      "outputs": []
    }
  ]
}